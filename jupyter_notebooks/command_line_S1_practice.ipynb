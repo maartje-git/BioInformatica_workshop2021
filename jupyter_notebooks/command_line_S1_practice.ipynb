{
 "cells": [
  {
   "cell_type": "markdown",
   "metadata": {},
   "source": [
    "# Bioinformatics Workshop 2021 \n",
    "## Command_line_S1_practice\n",
    "\n",
    "#### Maartje Brouwer\n",
    "#### 2021 Feb 04\n",
    "#### This notebook is running Python 3.6.7"
   ]
  },
  {
   "cell_type": "markdown",
   "metadata": {},
   "source": [
    "#### Command line practice"
   ]
  },
  {
   "cell_type": "code",
   "execution_count": 1,
   "metadata": {},
   "outputs": [
    {
     "name": "stdout",
     "output_type": "stream",
     "text": [
      "/export/lv3/scratch/workshop_2021\n"
     ]
    }
   ],
   "source": [
    "## 1. Navigate to the workshop dedicated directory\n",
    "%cd /export/lv3/scratch/workshop_2021\n",
    "\n",
    "# In Jupyter Notebook you can execute Terminal commands in the notebook cells by prepending an exclamation point/bang(!) to the beginning of the command.\n",
    "# To change directory, you need magic ON\n",
    "# You can use % to start a single-line expression to run with the magics command. \n",
    "# Or you can use a double %% to run a multi-line expression"
   ]
  },
  {
   "cell_type": "code",
   "execution_count": 2,
   "metadata": {},
   "outputs": [
    {
     "name": "stdout",
     "output_type": "stream",
     "text": [
      "S1_command_line  S2_command_line  S3_documentation  Users\r\n"
     ]
    }
   ],
   "source": [
    "## 2. List the content of that directory\n",
    "! ls"
   ]
  },
  {
   "cell_type": "code",
   "execution_count": 3,
   "metadata": {},
   "outputs": [
    {
     "name": "stdout",
     "output_type": "stream",
     "text": [
      "total 4\r\n",
      "drwxrwxr-x.  2 aabdala    aabdala      95 Jan  6 11:37 S1_command_line\r\n",
      "drwxrwxr-x.  3 aabdala    aabdala     123 Jan 21 13:25 S2_command_line\r\n",
      "drwxrwxr-x.  5 jengelmann jengelmann   68 Jan 28 14:29 S3_documentation\r\n",
      "drwxrwxrwx. 38 aabdala    aabdala    4096 Feb  4 12:47 Users\r\n"
     ]
    }
   ],
   "source": [
    "## 3. What does the addition of -ltr do to ls\n",
    "! ls -ltr\n",
    "\n",
    "# -l makes a long list, with more information about the content\n",
    "# -t sorts it based on modification time, newest first\n",
    "# -r reverse the -t sort, so oldest first"
   ]
  },
  {
   "cell_type": "code",
   "execution_count": 4,
   "metadata": {},
   "outputs": [
    {
     "name": "stdout",
     "output_type": "stream",
     "text": [
      ".   .im_a_hidden_file  S2_command_line\t Users\r\n",
      "..  S1_command_line    S3_documentation\r\n"
     ]
    }
   ],
   "source": [
    "## 4. Look for hidden files\n",
    "! ls -a"
   ]
  },
  {
   "cell_type": "code",
   "execution_count": 5,
   "metadata": {},
   "outputs": [
    {
     "name": "stdout",
     "output_type": "stream",
     "text": [
      "Hi!\r\n",
      "\r\n",
      "I'm a hidden file.\r\n",
      "\r\n",
      "We are most frequently used to store information for configuring different stuff.\r\n",
      "\r\n",
      "\r\n"
     ]
    }
   ],
   "source": [
    "## 5. Output the content of the hidden file\n",
    "! cat .im_a_hidden_file"
   ]
  },
  {
   "cell_type": "code",
   "execution_count": 6,
   "metadata": {},
   "outputs": [
    {
     "name": "stdout",
     "output_type": "stream",
     "text": [
      "total 500K\r\n",
      "-rw-rw-r--. 1 aabdala aabdala   24 Jan 25 10:54 dada2Version.R\r\n",
      "drwxrwxr-x. 4 aabdala aabdala   40 Jan 25 10:54 BarcodeCorrector\r\n",
      "drwxrwxr-x. 6 aabdala aabdala  117 Jan 25 10:54 ClusterMapper\r\n",
      "-rw-rw-r--. 1 aabdala aabdala  722 Jan 25 10:54 sampleDist.manual.py\r\n",
      "-rwxrwxr-x. 1 aabdala aabdala  741 Jan 25 10:54 sampleDist.py\r\n",
      "-rwxrwxr-x. 1 aabdala aabdala  905 Jan 25 10:54 histogram.R\r\n",
      "-rwxrwxr-x. 1 aabdala aabdala 1015 Jan 25 10:54 removePrimersDemultiplexSE.sh\r\n",
      "-rw-rw-r--. 1 aabdala aabdala 1.1K Jan 25 10:54 init_sample_SE.py\r\n",
      "-rwxrwxr-x. 1 aabdala aabdala 1.1K Jan 25 10:54 tabulate.py\r\n",
      "-rwxrwxr-x. 1 aabdala aabdala 1.2K Jan 25 10:54 combineAllReads_asv.py\r\n",
      "-rwxrwxr-x. 1 aabdala aabdala 1.2K Jan 25 10:54 removePrimersDemultiplex.sh\r\n",
      "-rw-rw-r--. 1 aabdala aabdala 1.2K Jan 25 10:54 init_sample.py\r\n",
      "-rwxrwxr-x. 1 aabdala aabdala 1.3K Jan 25 10:54 countData.py\r\n",
      "-rwxrwxr-x. 1 aabdala aabdala 1.4K Jan 25 10:54 combineAllReads.py\r\n",
      "-rwxrwxr-x. 1 aabdala aabdala 1.4K Jan 25 10:54 seqsChart.py\r\n",
      "-rwxrwxr-x. 1 aabdala aabdala 1.5K Jan 25 10:54 init_sample_dmx_SE.sh\r\n",
      "-rwxrwxr-x. 1 aabdala aabdala 1.5K Jan 25 10:54 validateSingleQC.py\r\n",
      "-rwxrwxr-x. 1 aabdala aabdala 1.6K Jan 25 10:54 otu2krona.py\r\n",
      "-rwxrwxr-x. 1 aabdala aabdala 1.6K Jan 25 10:54 splitRC.py\r\n",
      "-rwxrwxr-x. 1 aabdala aabdala 1.6K Jan 25 10:54 validateSplit.py\r\n",
      "-rwxrwxr-x. 1 aabdala aabdala 1.8K Jan 25 10:54 init_sample_SE.sh\r\n",
      "-rwxrwxr-x. 1 aabdala aabdala 1.9K Jan 25 10:54 validatePearedQC.py\r\n",
      "-rwxrwxr-x. 1 aabdala aabdala 2.0K Jan 25 10:54 errorCorrectBarcodes.R\r\n",
      "-rw-rw-r--. 1 aabdala aabdala 2.0K Jan 25 10:54 validateQC_SE.py\r\n",
      "-rwxrwxr-x. 1 aabdala aabdala 2.0K Jan 25 10:54 init_sample_dmx.sh\r\n",
      "-rwxrwxr-x. 1 aabdala aabdala 2.1K Jan 25 10:54 validateQC.py\r\n",
      "-rwxrwxr-x. 1 aabdala aabdala 2.3K Jan 25 10:54 sampleDist.R\r\n",
      "-rwxrwxr-x. 1 aabdala aabdala 2.4K Jan 25 10:54 init_sample.sh\r\n",
      "-rwxrwxr-x. 1 aabdala aabdala 2.5K Jan 25 10:54 stats.pl\r\n",
      "-rwxrwxr-x. 1 aabdala aabdala 2.8K Jan 25 10:54 tuneReport.py\r\n",
      "-rwxrwxr-x. 1 aabdala aabdala 2.8K Jan 25 10:54 remove_chimera.py\r\n",
      "-rwxrwxr-x. 1 aabdala aabdala 3.2K Jan 25 10:54 validateBCV.py\r\n",
      "-rwxrwxr-x. 1 aabdala aabdala 3.5K Jan 25 10:54 validatePear.py\r\n",
      "-rw-rw-r--. 1 aabdala aabdala 3.5K Jan 25 10:54 asvFilter.R\r\n",
      "-rwxrwxr-x. 1 aabdala aabdala 3.8K Jan 25 10:54 validateSplitNew.py\r\n",
      "-rwxrwxr-x. 1 aabdala aabdala 4.1K Jan 25 10:54 stampa_merge.py\r\n",
      "-rwxrwxr-x. 1 aabdala aabdala 4.1K Jan 25 10:54 validateFilterASV.py\r\n",
      "-rwxrwxr-x. 1 aabdala aabdala 7.5K Jan 25 10:54 benchmark_utils.py\r\n",
      "-rwxrwxr-x. 1 aabdala aabdala 8.3K Jan 25 10:54 FastaOneLine.class\r\n",
      "-rwxrwxr-x. 1 aabdala aabdala 9.4K Jan 25 10:54 rmShortLong.py\r\n",
      "-rw-rw-r--. 1 aabdala aabdala  12K Jan 25 10:54 asvDada2_new.R\r\n",
      "-rwxrwxr-x. 1 aabdala aabdala  14K Jan 25 10:54 FastaOneLine.java\r\n",
      "-rw-rw-r--. 1 aabdala aabdala  15K Jan 25 10:54 asvDada2.R\r\n",
      "-rwxrwxr-x. 1 aabdala aabdala  17K Jan 25 10:54 DemultiplexQiime.class\r\n",
      "-rw-rw-r--. 1 aabdala aabdala  26K Jan 25 10:54 DemultiplexQiime.java\r\n",
      "-rwxrwxr-x. 1 aabdala aabdala  41K Jan 25 10:54 report_v2_SE.py\r\n",
      "-rw-rw-r--. 1 aabdala aabdala  43K Jan 25 10:54 report_asv.py\r\n",
      "-rwxrwxr-x. 1 aabdala aabdala  44K Jan 25 10:54 report_all_v2.py\r\n",
      "-rwxrwxr-x. 1 aabdala aabdala  44K Jan 25 10:54 report_v2.py\r\n",
      "-rwxrwxr-x. 1 aabdala aabdala  50K Jan 25 10:54 report_all_asv.py\r\n"
     ]
    }
   ],
   "source": [
    "## 6. What does the following command outputs?\n",
    "! ls -lSrh /export/data01/pipelines/CASCABEL/Scripts/\n",
    "\n",
    "# -l makes a long list, with more information about the content\n",
    "# -S sorts it based on file size, largest first\n",
    "# -r reverses the -S order, so smallest first\n",
    "# -h puts it human readable units, so 50K instead of 50000"
   ]
  },
  {
   "cell_type": "code",
   "execution_count": 7,
   "metadata": {},
   "outputs": [
    {
     "name": "stdout",
     "output_type": "stream",
     "text": [
      "Downloads  privatemodules  Projects  unix_stuff\r\n"
     ]
    }
   ],
   "source": [
    "## 7. From your current location list the content of your home directory\n",
    "# ! ls /export/lv1/user/mbrouwer\n",
    "# ! ls ../../../lv1/user/mbrouwer\n",
    "\n",
    "# or\n",
    "# ! ls ~\n",
    "\n",
    "# or\n",
    "! ls $HOME"
   ]
  },
  {
   "cell_type": "code",
   "execution_count": 8,
   "metadata": {},
   "outputs": [
    {
     "name": "stdout",
     "output_type": "stream",
     "text": [
      "mkdir: cannot create directory ‘S1_command_line/any_name’: Permission denied\r\n"
     ]
    }
   ],
   "source": [
    "## 8. Try to create a directory (give it any name) inside the S1_command_line directory\n",
    "! mkdir S1_command_line/any_name\n",
    "\n",
    "# Not possible because of r/w/x permissions"
   ]
  },
  {
   "cell_type": "code",
   "execution_count": 9,
   "metadata": {},
   "outputs": [
    {
     "name": "stdout",
     "output_type": "stream",
     "text": [
      "/export/lv3/scratch/workshop_2021/Users/maartje\n"
     ]
    }
   ],
   "source": [
    "## 9. Create a directory with your user name at the Users directory\n",
    "# already did that, so directory already excists\n",
    "# ! mkdir /export/lv3/scratch/workshop_2021/Users/maartje\n",
    "\n",
    "# Go to that directory\n",
    "%cd /export/lv3/scratch/workshop_2021/Users/maartje\n",
    "# % because magic is turned off. Otherwise you could use !"
   ]
  },
  {
   "cell_type": "code",
   "execution_count": 10,
   "metadata": {},
   "outputs": [],
   "source": [
    "## 10. Create a new directory called Files\n",
    "! mkdir Files"
   ]
  },
  {
   "cell_type": "code",
   "execution_count": 11,
   "metadata": {},
   "outputs": [],
   "source": [
    "## 11. Copy cp into your new directory “Files” the taxonomy files \n",
    "## from /export/lv3/scratch/workshop_2021/S1_command_line\n",
    "! cp /export/lv3/scratch/workshop_2021/S1_command_line/*.txt ./Files\n",
    "# *.txt copies all txt files. ./Files is folder Files in current directory (.)"
   ]
  },
  {
   "cell_type": "code",
   "execution_count": 12,
   "metadata": {},
   "outputs": [],
   "source": [
    "## 12. Into the same directory, make a symbolic link to the sequences.fasta file\n",
    "# absolute path\n",
    "! cp -s /export/lv3/scratch/workshop_2021/S1_command_line/sequences.fasta /export/lv3/scratch/workshop_2021/Users/maartje/Files\n",
    "# relative path\n",
    "# ! ln -s ../../S1_command_line/sequences.fasta ./Files\n",
    "# ln -s and cp -s seem to do the same thing. Asked for clarification in teams chat"
   ]
  },
  {
   "cell_type": "code",
   "execution_count": 14,
   "metadata": {},
   "outputs": [
    {
     "name": "stdout",
     "output_type": "stream",
     "text": [
      "AY940782.1      Eukaryota;Chordata;Aves;Piciformes;Picidae;Jynx;Jynx torquilla\n",
      "DQ385168.1      Eukaryota;Chordata;Aves;Charadriiformes;Burhinidae;Burhinus;Burhinus grallarius\n",
      "DQ434253.1      Eukaryota;Chordata;Aves;Anseriformes;Anatidae;Aix;Aix sponsa\n",
      "DQ434261.1      Eukaryota;Chordata;Aves;Anseriformes;Anatidae;Anas;Anas acuta\n",
      "DQ434268.1      Eukaryota;Chordata;Aves;Anseriformes;Anatidae;Mareca;Mareca americana\n",
      "DQ434276.1      Eukaryota;Chordata;Aves;Anseriformes;Anatidae;Anas;Anas carolinensis\n",
      "DQ434282.1      Eukaryota;Chordata;Aves;Anseriformes;Anatidae;Anas;Anas discors\n",
      "DQ434283.1      Eukaryota;Chordata;Aves;Anseriformes;Anatidae;Anas;Anas discors\n",
      "DQ434288.1      Eukaryota;Chordata;Aves;Anseriformes;Anatidae;Anas;Anas platyrhynchos\n",
      "DQ434289.1      Eukaryota;Chordata;Aves;Anseriformes;Anatidae;Anas;Anas platyrhynchos\n",
      "DQ434290.1      Eukaryota;Chordata;Aves;Anseriformes;Anatidae;Anas;Anas platyrhynchos\n",
      "DQ434293.1      Eukaryota;Chordata;Aves;Anseriformes;Anatidae;Anas;Anas rubripes\n",
      "DQ434633.1      Eukaryota;Chordata;Aves;Anseriformes;Anatidae;Lophodytes;Lophodytes cucullatus\n",
      "DQ434649.1      Eukaryota;Chordata;Aves;Anseriformes;Anatidae;Melanitta;Melanitta nigra\n",
      "\u001b[K:\u001b[K0.1      Eukaryota;Chordata;Aves;Anseriformes;Anatidae;Melanitta;Melanitt\u001b[7m./Files/acc_chordata.txt\u001b[m\u001b[K\u0007"
     ]
    }
   ],
   "source": [
    "## 14. Use the command “less” to inspect the content of the files. \n",
    "! less ./Files/acc_chordata.txt\n",
    "# ! less ./Files/acc_arthropoda.txt\n",
    "# ! less ./Files/sequences.fasta"
   ]
  },
  {
   "cell_type": "code",
   "execution_count": 13,
   "metadata": {},
   "outputs": [
    {
     "name": "stdout",
     "output_type": "stream",
     "text": [
      ">AY940782.1 Jynx torquilla cytochrome oxidase subunit I (COI) gene, partial cds;\n",
      "TACCCTATATCTAATTTTTGGTGCCTGAGCGGGCATAATTGGTACGGCCTTAAGTCTCCTCATCCGCGCAGAATTGGGCC\n",
      ">DQ385168.1 Burhinus grallarius voucher AJB6177 cytochrome oxidase subunit I (CO\n",
      "CACCCTATATCTCATCTTCGGCGCATGGGCAGGCATAGTTGGCACTGCCCTCAGCCTACTTATCCGTGCAGAACTCGGCC\n",
      ">DQ434253.1 Aix sponsa voucher 1440-10029 cytochrome oxidase subunit 1 (COI) gen\n",
      "CACAGCACTCAGCCTGCTAATCCGCGCTGAACTAGGCCAGCCAGGAACCCTCCTAGGTGATGACCAAATTTATAACGTAA\n",
      ">DQ434261.1 Anas acuta voucher 1430-10521 cytochrome oxidase subunit 1 (COI) gen\n",
      "CACAGCACTCAGCCTACTGATCCGCGCAGAACTAGGCCAGCCAGGAACCCTCCTAGGCGACGACCAAATTTACAACGTGA\n",
      ">DQ434268.1 Anas americana voucher 1370-10058 cytochrome oxidase subunit 1 (COI)\n",
      "CACAGCACTCAGCCTGCTAATCCGCGCAGAACTAGGCCAACCAGGGACCCTCCTGGGCGACGACCAAATTTACAACGTGA\n",
      ">DQ434276.1 Anas carolinensis voucher 1390-10314 cytochrome oxidase subunit 1 (C\n",
      "CACAGCACTTAGCCTGCTAATCCGCGCAGAACTAGGCCAACCAGGAACCCTCCTGGGCGACGACCAAATTTACAACGTAA\n",
      ">DQ434282.1 Anas discors voucher 1400-10172 cytochrome oxidase subunit 1 (COI) g\n",
      "CACAGCACTGAGCCTACTAATCCGCGCAGAGCTTGGTCAACCCGGGACTCTCCTGGGCGATGACCAAATTTACAACGTGA\n",
      ">DQ434283.1 Anas discors voucher 1400-10066 cytochrome oxidase subunit 1 (COI) g\n",
      "CACAGCACTGAGCCTACTAATCCGCGCAGAGCTTGGTCAACCCGGGACTCTCCTGGGCGATGACCAAATTTACAACGTGA\n",
      ">DQ434288.1 Anas platyrhynchos voucher 1320-11401 cytochrome oxidase subunit 1 (\n",
      "CACAGCACTCAGCCTACTGATCCGGGCAGAGCTAGGCCAGCCAGGGACCCTCCTGGGCGACGACCAAATTTATAACGTGA\n",
      ">DQ434289.1 Anas platyrhynchos voucher 1320-12624 cytochrome oxidase subunit 1 (\n",
      "CACAGCACTCAGCCTACTGATCCGGGCAGAGCTAGGCCAGCCAGGGACCCTCCTGGGCGACGACCAAATTTATAACGTGA\n",
      ">DQ434290.1 Anas platyrhynchos voucher 1320-10770 cytochrome oxidase subunit 1 (\n",
      "CACAGCACTCAGCCTACTGATCCGGGCAGAGCTAGGCCAGCCAGGGACCCTCCTGGGCGACGACCAAATTTATAACGTGA\n",
      ">DQ434293.1 Anas rubripes voucher 1330-11050 cytochrome oxidase subunit 1 (COI) \n",
      "\u001b[K:\u001b[Kiles/sequences.fasta\u001b[m\u001b[K\u0007"
     ]
    }
   ],
   "source": [
    "## Inspect the file sequences.fasta adding the option -S\n",
    "! ! less -S ./Files/sequences.fasta\n",
    "# -S cuts off lines halfway, to make it look better and more easily readable"
   ]
  },
  {
   "cell_type": "code",
   "execution_count": 15,
   "metadata": {},
   "outputs": [],
   "source": [
    "## 15. Concatenate the content of both taxonomy files and create one single file named taxonomy.tsv\n",
    "! cat ./Files/acc_chordata.txt ./Files/acc_arthropoda.txt > ./Files/taxonomy.tsv"
   ]
  },
  {
   "cell_type": "code",
   "execution_count": 16,
   "metadata": {},
   "outputs": [],
   "source": [
    "## 16. Remove the acc_chordata.txt and acc_arthropoda.txt files\n",
    "# ! rm ./Files/acc_chordata.txt\n",
    "# ! rm ./Files/acc_chordata.txt\n",
    "\n",
    "# Or with a wildcard\n",
    "! rm ./Files/*.txt"
   ]
  },
  {
   "cell_type": "code",
   "execution_count": 17,
   "metadata": {},
   "outputs": [
    {
     "name": "stdout",
     "output_type": "stream",
     "text": [
      "28735\n",
      "28735\n"
     ]
    }
   ],
   "source": [
    "## 17. How many lines does the taxonomy.txt file have?\n",
    "! cat ./Files/taxonomy.tsv | wc -l\n",
    "\n",
    "## how many sequences does the fasta file have?\n",
    "! cat ./Files/sequences.fasta | grep -c \"^>\"\n",
    "# grep is used to fins s\\words or patterns within a file\n",
    "# -c counts the occurences, instead of giving the occurences"
   ]
  },
  {
   "cell_type": "code",
   "execution_count": 18,
   "metadata": {},
   "outputs": [
    {
     "name": "stdout",
     "output_type": "stream",
     "text": [
      "28735\r\n"
     ]
    }
   ],
   "source": [
    "## 18. How many sequences have the term COI in the sequence definition?\n",
    "! cat ./Files/sequences.fasta | grep -ic \"COI\"\n",
    "# -i makes it case insensitive, -c counts the occurences, instead of giving the occurences"
   ]
  },
  {
   "cell_type": "code",
   "execution_count": 19,
   "metadata": {},
   "outputs": [
    {
     "name": "stdout",
     "output_type": "stream",
     "text": [
      "AF026508.1\tEukaryota;Arthropoda;Insecta;Diptera;Drosophilidae;Drosophila;Drosophila silvestris\r\n",
      "AF043999.1\tEukaryota;Arthropoda;Insecta;Lepidoptera;Papilionidae;Papilio;Papilio xuthus\r\n",
      "AF044000.1\tEukaryota;Arthropoda;Insecta;Lepidoptera;Papilionidae;Papilio;Papilio demoleus\r\n",
      "AF044001.1\tEukaryota;Arthropoda;Insecta;Lepidoptera;Papilionidae;Papilio;Papilio phorcas\r\n",
      "AF044002.1\tEukaryota;Arthropoda;Insecta;Lepidoptera;Papilionidae;Papilio;Papilio constantinus\r\n",
      "sort: write failed: standard output: Broken pipe\r\n",
      "sort: write error\r\n"
     ]
    }
   ],
   "source": [
    "## 19. sort the taxonomy.tsv file according to the accession number\n",
    "## output to the screen the first 5 elements\n",
    "! cat ./Files/taxonomy.tsv | sort | head -5"
   ]
  },
  {
   "cell_type": "code",
   "execution_count": 20,
   "metadata": {},
   "outputs": [
    {
     "name": "stdout",
     "output_type": "stream",
     "text": [
      "MG366136.1\tEukaryota;Chordata;Aves;Strigiformes;Strigidae;Strix;Strix aluco\r\n",
      "MG696120.1\tEukaryota;Chordata;Aves;Strigiformes;Strigidae;Strix;Strix aluco\r\n",
      "MG696123.1\tEukaryota;Chordata;Aves;Strigiformes;Strigidae;Strix;Strix aluco\r\n",
      "GU571635.1\tEukaryota;Chordata;Aves;Strigiformes;Strigidae;Strix;Strix nebulosa\r\n",
      "JN801655.1\tEukaryota;Chordata;Aves;Tinamiformes;Tinamidae;Eudromia;Eudromia formosa\r\n"
     ]
    }
   ],
   "source": [
    "## 20. Now sort it by its taxonomy definition and output the last 5 elements\n",
    "# The taxonomy file is composed by two columns separated with tab (\\t)\n",
    "#Tthe first column contains the accession numbers and the second one the taxonomy for each accession.\n",
    "! cat ./Files/taxonomy.tsv | sort -k2 | tail -5"
   ]
  },
  {
   "cell_type": "code",
   "execution_count": 21,
   "metadata": {},
   "outputs": [
    {
     "name": "stdout",
     "output_type": "stream",
     "text": [
      "JN801655.1\tEukaryota;Chordata;Aves;Tinamiformes;Tinamidae;Eudromia;Eudromia formosa\r\n",
      "GU571635.1\tEukaryota;Chordata;Aves;Strigiformes;Strigidae;Strix;Strix nebulosa\r\n",
      "MG696123.1\tEukaryota;Chordata;Aves;Strigiformes;Strigidae;Strix;Strix aluco\r\n",
      "MG696120.1\tEukaryota;Chordata;Aves;Strigiformes;Strigidae;Strix;Strix aluco\r\n",
      "MG366136.1\tEukaryota;Chordata;Aves;Strigiformes;Strigidae;Strix;Strix aluco\r\n",
      "sort: write failed: standard output: Broken pipe\r\n",
      "sort: write error\r\n"
     ]
    }
   ],
   "source": [
    "#In a similar way, you can reverse the result (r option) and output the first 5\n",
    "! cat ./Files/taxonomy.tsv | sort -rk2 | head -5"
   ]
  },
  {
   "cell_type": "markdown",
   "metadata": {},
   "source": [
    "#### Advanced section"
   ]
  },
  {
   "cell_type": "code",
   "execution_count": 22,
   "metadata": {},
   "outputs": [
    {
     "name": "stdout",
     "output_type": "stream",
     "text": [
      "9054\r\n"
     ]
    }
   ],
   "source": [
    "## 21. How many unique taxonomies do we have in the file?\n",
    "! cat ./Files/taxonomy.tsv | sort -k2 | uniq -f1 | wc -l\n",
    "# sort based on the second column\n",
    "# uniq skips the first n(1) columns of data to check for matches\n",
    "\n",
    "# or\n",
    "# ! cat ./Files/taxonomy.tsv | cut -f2 | sort | uniq | wc -l"
   ]
  },
  {
   "cell_type": "code",
   "execution_count": 23,
   "metadata": {
    "scrolled": true
   },
   "outputs": [
    {
     "name": "stdout",
     "output_type": "stream",
     "text": [
      "11109\r\n"
     ]
    }
   ],
   "source": [
    "## 22. What happen if we omit the sort command? Is the result the same? Why?\n",
    "! cat ./Files/taxonomy.tsv | uniq -f1 | wc -l\n",
    "# uniq only finds adjacent matching lines\n",
    "# With sort you put all matching lines adjacent to each other"
   ]
  },
  {
   "cell_type": "code",
   "execution_count": 24,
   "metadata": {},
   "outputs": [
    {
     "name": "stdout",
     "output_type": "stream",
     "text": [
      "15\n",
      "  20897 Insecta\n",
      "   2746 Arachnida\n",
      "   1879 Malacostraca\n",
      "   1473 Hexanauplia\n",
      "    691 Collembola\n",
      "    660 Aves\n",
      "    172 Branchiopoda\n",
      "     78 Chilopoda\n",
      "     46 Pauropoda\n",
      "     44 Ostracoda\n",
      "     41 Diplopoda\n",
      "      4 Pycnogonida\n",
      "      2 Merostomata\n",
      "      1 Remipedia\n",
      "      1 Mystacocarida\n"
     ]
    }
   ],
   "source": [
    "## 23. How many different classes do we have in the file?\n",
    "# The taxonomy in this file, is composed by the 7 “standard” taxonomic levels: \n",
    "# “kingdom;phylum;class;order;family;genus;species”\n",
    "! cat ./Files/taxonomy.tsv | cut -f3 -d\";\" | sort | uniq | wc -l\n",
    "# cut out the third column, seperated by \";\"\n",
    "\n",
    "## Which ones and how many elements per class? \n",
    "#Sort the result by the number of elements per class.\n",
    "! cat ./Files/taxonomy.tsv | cut -f3 -d\";\" | sort | uniq -c | sort -gr\n",
    "# uniq -c counts the occurence of each repeated line\n",
    "# sort -g is numericalorder so (1, 5, 14, 36) without g it would be 1, 14, 36, 5"
   ]
  },
  {
   "cell_type": "code",
   "execution_count": 25,
   "metadata": {},
   "outputs": [],
   "source": [
    "## 24. Create a taxonomy file with only the Arachnida class\n",
    "# name it taxonomy_subset.tsv\n",
    "! cat ./Files/taxonomy.tsv | grep -i \"Arachnida\" > ./Files/taxonomy_subset.tsv"
   ]
  },
  {
   "cell_type": "code",
   "execution_count": 26,
   "metadata": {},
   "outputs": [],
   "source": [
    "## 25. search for the Malacostraca class \n",
    "# append them to the taxonomy_subset.tsv file\n",
    "! cat ./Files/taxonomy.tsv | grep -i \"Malacostraca\" >> ./Files/taxonomy_subset.tsv\n",
    "# >> to append instead of overwrite"
   ]
  },
  {
   "cell_type": "code",
   "execution_count": 27,
   "metadata": {},
   "outputs": [],
   "source": [
    "## 26. 27. Search and create a file with both Arachnida and Malacostraca using only one command\n",
    "! cat ./Files/taxonomy.tsv | grep -i \"Arachnida\\|Malacostraca\" > ./Files/taxonomy_subset.tsv\n",
    "# \\ escapes the | as pipe, now it's used as the logical operator “or”  \n",
    "\n",
    "# Or\n",
    "#! cat ./Files/taxonomy.tsv | egrep -i \"Arachnida|Malacostraca\" > ./Files/taxonomy_subset.tsv\n",
    "#! cat ./Files/taxonomy.tsv | grep -E \"Arachnida|Malacostraca\" > ./Files/taxonomy_subset.tsv\n",
    "#! cat ./Files/taxonomy.tsv | grep -i \"Arachnida\\Malacostraca\" > ./Files/taxonomy_subset.tsv\n",
    "#! cat ./Files/taxonomy.tsv | grep -ie \"Arachnida\" -ie \"|Malacostraca\" > ./Files/taxonomy_subset.tsv"
   ]
  },
  {
   "cell_type": "code",
   "execution_count": 28,
   "metadata": {},
   "outputs": [
    {
     "name": "stdout",
     "output_type": "stream",
     "text": [
      "3041\r\n"
     ]
    }
   ],
   "source": [
    "## 27. How many repeated sequences are there in the fasta file?\n",
    "! cat ./Files/sequences.fasta | sort | uniq -d | wc -l\n",
    "# -d only shows the repeated (duplicate) sequences\n",
    "# -D would show every occurence of the repeated sequences"
   ]
  },
  {
   "cell_type": "code",
   "execution_count": 29,
   "metadata": {},
   "outputs": [
    {
     "name": "stdout",
     "output_type": "stream",
     "text": [
      "sort: write failed: standard output: Broken pipe\r\n",
      "sort: write error\r\n"
     ]
    }
   ],
   "source": [
    "## 28. Print the first 5 most over-represented sequences\n",
    "# Write them into a file repeated_sequences.top5.txt\n",
    "! cat ./Files/sequences.fasta | sort | uniq -dc | sort -gr | head -5 > ./Files/repeated_sequences.top5.txt"
   ]
  },
  {
   "cell_type": "code",
   "execution_count": 30,
   "metadata": {},
   "outputs": [],
   "source": [
    "## 29. Get the sequences belonging to the taxonomy_subset.tsv\n",
    "# Redirect the output to file some_arthropods.fasta\n",
    "!cat ./Files/taxonomy_subset.tsv | cut -f1 | grep --no-group-separator -A1 -F -f - ./Files/sequences.fasta > ./Files/some_arthropods.fasta\n",
    "# grep -A1 takes the matching line and the 1 above, -A10 is also possible. -B# takes the lines before.\n",
    "# grep -F indicates the pattern to look for is in multiple seperate lines\n",
    "# grep -f indicates the pattern is in another file, the - uses the cut command result as if we supply a file.\n",
    "\n",
    "## 30\n",
    "# grep --no-group-separator. If you grep sequences that are not consecutive, it puts 2 -- between the lines \n",
    "# to show that lines are missing between them.Some programs cannot work with the --, \n",
    "# therefore, you do not want grep to put the -- in between the sequences. \n",
    "# This is avoided by grep --no-group-separator"
   ]
  },
  {
   "cell_type": "markdown",
   "metadata": {},
   "source": [
    "#### Warming up for next session"
   ]
  },
  {
   "cell_type": "code",
   "execution_count": 31,
   "metadata": {},
   "outputs": [],
   "source": [
    "## 31. Retain the sequences which accession starts with the letter “D” and find the taxonomy for these sequences\n",
    "! cat ./Files/sequences.fasta | grep \"^>D\" | cut -f1 -d\" \" | sed 's/>//' | grep -F -f - ./Files/taxonomy.tsv > ./Files/D_accessions.tsv\n",
    "# grep every line that starts with >D\n",
    "# cut out the first column, seperated by (delimiter) \" \" (space)\n",
    "# With sed change > into nothing. sed ‘s/<text_to_replace>/<replace_by>/flag’, no flag means it only changes the first occurence.\n",
    "# grep the accession numbers you just cut from the fasta file in the taxonomy file"
   ]
  },
  {
   "cell_type": "code",
   "execution_count": 37,
   "metadata": {},
   "outputs": [
    {
     "name": "stdout",
     "output_type": "stream",
     "text": [
      "2\r\n"
     ]
    }
   ],
   "source": [
    "## 32 Open repeat_sequences.top5.txt , take the most over-represented sequence, can you tell how many different taxonomies are assigned to this sequence?\n",
    "# ! cat ./Files/repeated_sequences.top5.txt\n",
    "#copy the sequence\n",
    "! cat ./Files/sequences.fasta | grep -B1 \"AACTTTATATTTTATCTTCGGAGCCTGAGCAGGAATAGTAGGAACATCCCTTAGAATTTTAGTCCGAGCTGAACTCGGTCACCCAGGAGCTTTAATCGGTGACGATCAAATTTATAATGTAATTGTAACAGCTCATGCTTTCGTAATAATTTTCTTTATAGTTATACCAATTATAATTGGTGGATTTGGAAATTGACTTGTTCCTTTAATATTAGGAGCTCCCGATATAGCA\" | grep \"^>\" | cut -f1 -d\" \" | sed 's/>//' | grep -F -f - ./Files/taxonomy.tsv | cut -f2 | sort | uniq -c | wc -l \n",
    "# First grep the clean accession numbers that match this sequence.\n",
    "# Then look for those numbers in the taxonomy.tsv file\n",
    "# The taxonomies are in column 2, so cut that column out. Then sort to put matching lines adjacent to each other.\n",
    "# Then group matching taxonomies and count the lines of different taxaonomies."
   ]
  }
 ],
 "metadata": {
  "kernelspec": {
   "display_name": "Python 3",
   "language": "python",
   "name": "python3"
  },
  "language_info": {
   "codemirror_mode": {
    "name": "ipython",
    "version": 3
   },
   "file_extension": ".py",
   "mimetype": "text/x-python",
   "name": "python",
   "nbconvert_exporter": "python",
   "pygments_lexer": "ipython3",
   "version": "3.6.7"
  }
 },
 "nbformat": 4,
 "nbformat_minor": 2
}
