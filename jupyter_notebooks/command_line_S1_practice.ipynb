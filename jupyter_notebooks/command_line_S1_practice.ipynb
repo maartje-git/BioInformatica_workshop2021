{
 "cells": [
  {
   "cell_type": "markdown",
   "metadata": {},
   "source": [
    "# Bioinformatics Workshop 2021 \n",
    "## Command_line_S1_practice\n",
    "\n",
    "#### Maartje Brouwer\n",
    "#### 2021 Feb 04\n",
    "#### This notebook is running Python 3.6.7"
   ]
  },
  {
   "cell_type": "markdown",
   "metadata": {},
   "source": [
    "#### Command line practice"
   ]
  },
  {
   "cell_type": "code",
   "execution_count": 2,
   "metadata": {},
   "outputs": [
    {
     "name": "stdout",
     "output_type": "stream",
     "text": [
      "/export/lv3/scratch/workshop_2021\n"
     ]
    }
   ],
   "source": [
    "## Navigate to the workshop dedicated directory\n",
    "%cd /export/lv3/scratch/workshop_2021\n",
    "\n",
    "# % because magic is turned off. Otherwise you could use !"
   ]
  },
  {
   "cell_type": "code",
   "execution_count": 3,
   "metadata": {},
   "outputs": [
    {
     "name": "stdout",
     "output_type": "stream",
     "text": [
      "S1_command_line  S2_command_line  S3_documentation  Users\r\n"
     ]
    }
   ],
   "source": [
    "## List the content of that directory\n",
    "! ls"
   ]
  },
  {
   "cell_type": "code",
   "execution_count": 7,
   "metadata": {},
   "outputs": [
    {
     "name": "stdout",
     "output_type": "stream",
     "text": [
      "total 4\r\n",
      "drwxrwxr-x.  2 aabdala    aabdala      95 Jan  6 11:37 S1_command_line\r\n",
      "drwxrwxr-x.  3 aabdala    aabdala     123 Jan 21 13:25 S2_command_line\r\n",
      "drwxrwxr-x.  5 jengelmann jengelmann   68 Jan 28 14:29 S3_documentation\r\n",
      "drwxrwxrwx. 38 aabdala    aabdala    4096 Feb  4 12:47 Users\r\n"
     ]
    }
   ],
   "source": [
    "## What does the addition of -ltr do to ls\n",
    "! ls -ltr\n",
    "\n",
    "# -l makes a long list, with more information about the content\n",
    "# -t sorts it based on modification time, newest first\n",
    "# -r reverse the -t sort, so oldest first"
   ]
  },
  {
   "cell_type": "code",
   "execution_count": 8,
   "metadata": {},
   "outputs": [
    {
     "name": "stdout",
     "output_type": "stream",
     "text": [
      ".   .im_a_hidden_file  S2_command_line\t Users\r\n",
      "..  S1_command_line    S3_documentation\r\n"
     ]
    }
   ],
   "source": [
    "## Look for hidden files\n",
    "! ls -a"
   ]
  },
  {
   "cell_type": "code",
   "execution_count": 10,
   "metadata": {},
   "outputs": [
    {
     "name": "stdout",
     "output_type": "stream",
     "text": [
      "Hi!\r\n",
      "\r\n",
      "I'm a hidden file.\r\n",
      "\r\n",
      "We are most frequently used to store information for configuring different stuff.\r\n",
      "\r\n",
      "\r\n"
     ]
    }
   ],
   "source": [
    "## Output the content of the hidden file\n",
    "! cat .im_a_hidden_file"
   ]
  },
  {
   "cell_type": "code",
   "execution_count": null,
   "metadata": {},
   "outputs": [],
   "source": [
    "## What does the following command outputs?\n",
    "! ls -lSrh /export/data01/pipelines/CASCABEL/Scripts/\n",
    "\n",
    "# -l makes a long list, with more information about the content\n",
    "# -S sorts it based on file size, largest first\n",
    "# -r reverses the -S order, so smallest first\n",
    "# -h puts it human readable units, so 50K instead of 50000"
   ]
  },
  {
   "cell_type": "code",
   "execution_count": null,
   "metadata": {},
   "outputs": [],
   "source": [
    "## From your current location list the content of your home directory\n",
    "!"
   ]
  }
 ],
 "metadata": {
  "kernelspec": {
   "display_name": "Python 3",
   "language": "python",
   "name": "python3"
  },
  "language_info": {
   "codemirror_mode": {
    "name": "ipython",
    "version": 3
   },
   "file_extension": ".py",
   "mimetype": "text/x-python",
   "name": "python",
   "nbconvert_exporter": "python",
   "pygments_lexer": "ipython3",
   "version": "3.6.7"
  }
 },
 "nbformat": 4,
 "nbformat_minor": 2
}
