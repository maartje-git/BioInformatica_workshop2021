{
 "cells": [
  {
   "cell_type": "markdown",
   "metadata": {},
   "source": [
    "# Bioinformatics Workshop 2021 \n",
    "## Command_line_S1_practice\n",
    "\n",
    "#### Maartje Brouwer\n",
    "#### 2021 Feb 04\n",
    "#### This notebook is running Python 3.6.7"
   ]
  },
  {
   "cell_type": "markdown",
   "metadata": {},
   "source": [
    "#### Command line practice"
   ]
  },
  {
   "cell_type": "code",
   "execution_count": 13,
   "metadata": {},
   "outputs": [
    {
     "name": "stdout",
     "output_type": "stream",
     "text": [
      "/export/lv3/scratch/workshop_2021\n"
     ]
    }
   ],
   "source": [
    "## 1. Navigate to the workshop dedicated directory\n",
    "%cd /export/lv3/scratch/workshop_2021\n",
    "\n",
    "# % because magic is turned off. Otherwise you could use !"
   ]
  },
  {
   "cell_type": "code",
   "execution_count": 3,
   "metadata": {},
   "outputs": [
    {
     "name": "stdout",
     "output_type": "stream",
     "text": [
      "S1_command_line  S2_command_line  S3_documentation  Users\r\n"
     ]
    }
   ],
   "source": [
    "## 2. List the content of that directory\n",
    "! ls"
   ]
  },
  {
   "cell_type": "code",
   "execution_count": 7,
   "metadata": {},
   "outputs": [
    {
     "name": "stdout",
     "output_type": "stream",
     "text": [
      "total 4\r\n",
      "drwxrwxr-x.  2 aabdala    aabdala      95 Jan  6 11:37 S1_command_line\r\n",
      "drwxrwxr-x.  3 aabdala    aabdala     123 Jan 21 13:25 S2_command_line\r\n",
      "drwxrwxr-x.  5 jengelmann jengelmann   68 Jan 28 14:29 S3_documentation\r\n",
      "drwxrwxrwx. 38 aabdala    aabdala    4096 Feb  4 12:47 Users\r\n"
     ]
    }
   ],
   "source": [
    "## 3. What does the addition of -ltr do to ls\n",
    "! ls -ltr\n",
    "\n",
    "# -l makes a long list, with more information about the content\n",
    "# -t sorts it based on modification time, newest first\n",
    "# -r reverse the -t sort, so oldest first"
   ]
  },
  {
   "cell_type": "code",
   "execution_count": 8,
   "metadata": {},
   "outputs": [
    {
     "name": "stdout",
     "output_type": "stream",
     "text": [
      ".   .im_a_hidden_file  S2_command_line\t Users\r\n",
      "..  S1_command_line    S3_documentation\r\n"
     ]
    }
   ],
   "source": [
    "## 4. Look for hidden files\n",
    "! ls -a"
   ]
  },
  {
   "cell_type": "code",
   "execution_count": 10,
   "metadata": {},
   "outputs": [
    {
     "name": "stdout",
     "output_type": "stream",
     "text": [
      "Hi!\r\n",
      "\r\n",
      "I'm a hidden file.\r\n",
      "\r\n",
      "We are most frequently used to store information for configuring different stuff.\r\n",
      "\r\n",
      "\r\n"
     ]
    }
   ],
   "source": [
    "## 5. Output the content of the hidden file\n",
    "! cat .im_a_hidden_file"
   ]
  },
  {
   "cell_type": "code",
   "execution_count": null,
   "metadata": {},
   "outputs": [],
   "source": [
    "## 6. What does the following command outputs?\n",
    "! ls -lSrh /export/data01/pipelines/CASCABEL/Scripts/\n",
    "\n",
    "# -l makes a long list, with more information about the content\n",
    "# -S sorts it based on file size, largest first\n",
    "# -r reverses the -S order, so smallest first\n",
    "# -h puts it human readable units, so 50K instead of 50000"
   ]
  },
  {
   "cell_type": "code",
   "execution_count": 18,
   "metadata": {},
   "outputs": [
    {
     "name": "stdout",
     "output_type": "stream",
     "text": [
      "Downloads  privatemodules  Projects  unix_stuff\r\n"
     ]
    }
   ],
   "source": [
    "## 7. From your current location list the content of your home directory\n",
    "# ! ls /export/lv1/user/mbrouwer\n",
    "# ! ls ../../../lv1/user/mbrouwer\n",
    "# or\n",
    "# ! ls ~\n",
    "# or\n",
    "! ls $HOME"
   ]
  },
  {
   "cell_type": "code",
   "execution_count": 22,
   "metadata": {},
   "outputs": [
    {
     "name": "stdout",
     "output_type": "stream",
     "text": [
      "mkdir: cannot create directory ‘S1_command_line/any_name’: Permission denied\r\n"
     ]
    }
   ],
   "source": [
    "## 8. Try to create a directory (give it any name) inside the S1_command_line directory\n",
    "! mkdir S1_command_line/any_name\n",
    "\n",
    "# Not possible because of r/w/x permissions"
   ]
  },
  {
   "cell_type": "code",
   "execution_count": 1,
   "metadata": {},
   "outputs": [
    {
     "name": "stdout",
     "output_type": "stream",
     "text": [
      "/export/lv3/scratch/workshop_2021/Users/maartje\n"
     ]
    }
   ],
   "source": [
    "## 9. Create a directory with your user name at the Users directory\n",
    "# already did that, so directory already excists\n",
    "# ! mkdir /export/lv3/scratch/workshop_2021/Users/maartje\n",
    "\n",
    "# Go to that directory\n",
    "%cd /export/lv3/scratch/workshop_2021/Users/maartje\n",
    "# % because magic is turned off. Otherwise you could use !"
   ]
  },
  {
   "cell_type": "code",
   "execution_count": 33,
   "metadata": {},
   "outputs": [],
   "source": [
    "## 10. Create a new directory called Files\n",
    "! mkdir Files"
   ]
  },
  {
   "cell_type": "code",
   "execution_count": 40,
   "metadata": {},
   "outputs": [],
   "source": [
    "## 11. Copy cp into your new directory “Files” the taxonomy files \n",
    "## from /export/lv3/scratch/workshop_2021/S1_command_line\n",
    "! cp /export/lv3/scratch/workshop_2021/S1_command_line/*.txt ./Files\n",
    "# *.txt copies all txt files. ./Files is folder Files in current directory (.)"
   ]
  },
  {
   "cell_type": "code",
   "execution_count": 47,
   "metadata": {},
   "outputs": [],
   "source": [
    "## 12. Into the same directory, make a symbolic link to the sequences.fasta file\n",
    "# absolute path\n",
    "# ! cp -s /export/lv3/scratch/workshop_2021/S1_command_line/sequences.fasta /export/lv3/scratch/workshop_2021/Users/maartje/Files\n",
    "# relative path\n",
    "! ln -s ../../S1_command_line/sequences.fasta ./Files\n",
    "# ln -s and cp -s seem to do the same thing. Asked for clarification in teams chat"
   ]
  },
  {
   "cell_type": "code",
   "execution_count": 17,
   "metadata": {},
   "outputs": [],
   "source": [
    "## 14. Use the command “less” to inspect the content of the files. \n",
    "# ! less ./Files/acc_chordata.txt\n",
    "# ! less ./Files/acc_arthropoda.txt\n",
    "# ! less ./Files/sequences.fasta  # somehow this one says the file is not there :( therefore, below with the original path"
   ]
  },
  {
   "cell_type": "code",
   "execution_count": 18,
   "metadata": {},
   "outputs": [
    {
     "name": "stdout",
     "output_type": "stream",
     "text": [
      ">AY940782.1 Jynx torquilla cytochrome oxidase subunit I (COI) gene, partial cds;\n",
      "TACCCTATATCTAATTTTTGGTGCCTGAGCGGGCATAATTGGTACGGCCTTAAGTCTCCTCATCCGCGCAGAATTGGGCC\n",
      ">DQ385168.1 Burhinus grallarius voucher AJB6177 cytochrome oxidase subunit I (CO\n",
      "CACCCTATATCTCATCTTCGGCGCATGGGCAGGCATAGTTGGCACTGCCCTCAGCCTACTTATCCGTGCAGAACTCGGCC\n",
      ">DQ434253.1 Aix sponsa voucher 1440-10029 cytochrome oxidase subunit 1 (COI) gen\n",
      "CACAGCACTCAGCCTGCTAATCCGCGCTGAACTAGGCCAGCCAGGAACCCTCCTAGGTGATGACCAAATTTATAACGTAA\n",
      ">DQ434261.1 Anas acuta voucher 1430-10521 cytochrome oxidase subunit 1 (COI) gen\n",
      "CACAGCACTCAGCCTACTGATCCGCGCAGAACTAGGCCAGCCAGGAACCCTCCTAGGCGACGACCAAATTTACAACGTGA\n",
      ">DQ434268.1 Anas americana voucher 1370-10058 cytochrome oxidase subunit 1 (COI)\n",
      "CACAGCACTCAGCCTGCTAATCCGCGCAGAACTAGGCCAACCAGGGACCCTCCTGGGCGACGACCAAATTTACAACGTGA\n",
      ">DQ434276.1 Anas carolinensis voucher 1390-10314 cytochrome oxidase subunit 1 (C\n",
      "CACAGCACTTAGCCTGCTAATCCGCGCAGAACTAGGCCAACCAGGAACCCTCCTGGGCGACGACCAAATTTACAACGTAA\n",
      ">DQ434282.1 Anas discors voucher 1400-10172 cytochrome oxidase subunit 1 (COI) g\n",
      "CACAGCACTGAGCCTACTAATCCGCGCAGAGCTTGGTCAACCCGGGACTCTCCTGGGCGATGACCAAATTTACAACGTGA\n",
      ">DQ434283.1 Anas discors voucher 1400-10066 cytochrome oxidase subunit 1 (COI) g\n",
      "CACAGCACTGAGCCTACTAATCCGCGCAGAGCTTGGTCAACCCGGGACTCTCCTGGGCGATGACCAAATTTACAACGTGA\n",
      ">DQ434288.1 Anas platyrhynchos voucher 1320-11401 cytochrome oxidase subunit 1 (\n",
      "CACAGCACTCAGCCTACTGATCCGGGCAGAGCTAGGCCAGCCAGGGACCCTCCTGGGCGACGACCAAATTTATAACGTGA\n",
      ">DQ434289.1 Anas platyrhynchos voucher 1320-12624 cytochrome oxidase subunit 1 (\n",
      "CACAGCACTCAGCCTACTGATCCGGGCAGAGCTAGGCCAGCCAGGGACCCTCCTGGGCGACGACCAAATTTATAACGTGA\n",
      ">DQ434290.1 Anas platyrhynchos voucher 1320-10770 cytochrome oxidase subunit 1 (\n",
      "CACAGCACTCAGCCTACTGATCCGGGCAGAGCTAGGCCAGCCAGGGACCCTCCTGGGCGACGACCAAATTTATAACGTGA\n",
      ">DQ434293.1 Anas rubripes voucher 1330-11050 cytochrome oxidase subunit 1 (COI) \n",
      "\u001b[K:\u001b[K../S1_command_line/sequences.fasta\u001b[m\u001b[K\u0007"
     ]
    }
   ],
   "source": [
    "## Inspect the file sequences.fasta adding the option -S\n",
    "! less -S ../../S1_command_line/sequences.fasta\n",
    "# -S cuts off lines halfway, to make it look better"
   ]
  },
  {
   "cell_type": "code",
   "execution_count": null,
   "metadata": {},
   "outputs": [
    {
     "name": "stdout",
     "output_type": "stream",
     "text": [
      "\u001b7\u001b[?47h\u001b[?1h\u001b=\r",
      ">AY940782.1 Jynx torquilla cytochrome oxidase subunit I (COI) gene, partial cds; \b mitochondrial [Eukaryota 189526]\r\n",
      "TACCCTATATCTAATTTTTGGTGCCTGAGCGGGCATAATTGGTACGGCCTTAAGTCTCCTCATCCGCGCAGAATTGGGCC \bAACCAGGAACCTTGCTCGGCGATGACCAAATCTACAATGTCATTGTCACTGCCCATGCATTCGTTATAATCTTCTTTATA \bGTTATACCGATTATAATTGGTGGATTCGGAAACTGACTTGTACCCCTCATAATTGGCGCCCCAGATATAGCA\r\n",
      ">DQ385168.1 Burhinus grallarius voucher AJB6177 cytochrome oxidase subunit I (CO \bI) gene, complete cds; mitochondrial [Eukaryota 585466]\r\n",
      "CACCCTATATCTCATCTTCGGCGCATGGGCAGGCATAGTTGGCACTGCCCTCAGCCTACTTATCCGTGCAGAACTCGGCC \bAACCAGGGACCCTGCTAGGCGATGACCAAATCTACAACGTAGTCGTCACTGCTCATGCCTTCGTAATAATCTTCTTCATA \bGTAATGCCAATCATAATCGGCGGCTTTGGAAACTGATTAGTACCGCTAATAATTGGGGCCCCTGACATAGCA\r\n",
      ">DQ434253.1 Aix sponsa voucher 1440-10029 cytochrome oxidase subunit 1 (COI) gen \be, partial cds; mitochondrial [Eukaryota 8833]\r\n",
      "CACAGCACTCAGCCTGCTAATCCGCGCTGAACTAGGCCAGCCAGGAACCCTCCTAGGTGATGACCAAATTTATAACGTAA \bTCGTCACCGCCCACGCCTTTGTAATAATCTTCTTCATGGTGATACCCATCATAATTGGAGGATTCGGCAACTGATTAGTC \bCCCCTAATAATTGGCGCCCCCGACATGGCA\r\n",
      ">DQ434261.1 Anas acuta voucher 1430-10521 cytochrome oxidase subunit 1 (COI) gen \be, partial cds; mitochondrial [Eukaryota 28680]\r\n",
      "CACAGCACTCAGCCTACTGATCCGCGCAGAACTAGGCCAGCCAGGAACCCTCCTAGGCGACGACCAAATTTACAACGTGA \bTCGTCACCGCTCACGCCTTTGTAATAATCTTTTTCATGGTAATGCCCATCATAATTGGGGGATTCGGCAACTGATTGGTC \bCCCCTAATAATCGGTGCCCCCGACATAGCA\r\n",
      ">DQ434268.1 Anas americana voucher 1370-10058 cytochrome oxidase subunit 1 (COI) \b gene, partial cds; mitochondrial [Eukaryota 75832]\r\n",
      "CACAGCACTCAGCCTGCTAATCCGCGCAGAACTAGGCCAACCAGGGACCCTCCTGGGCGACGACCAAATTTACAACGTGA \b\u001b[7m../../S1_command_line/sequences.fasta\u001b[m\u001b[K"
     ]
    }
   ],
   "source": [
    "## Inspect the file sequences.fasta adding the option -S\n",
    "! less ../../S1_command_line/sequences.fasta\n",
    "# without -S, not so nice readable"
   ]
  },
  {
   "cell_type": "code",
   "execution_count": 11,
   "metadata": {},
   "outputs": [
    {
     "name": "stdout",
     "output_type": "stream",
     "text": [
      "acc_arthropoda.txt  acc_chordata.txt  sequences.fasta\r\n"
     ]
    }
   ],
   "source": []
  }
 ],
 "metadata": {
  "kernelspec": {
   "display_name": "Python 3",
   "language": "python",
   "name": "python3"
  },
  "language_info": {
   "codemirror_mode": {
    "name": "ipython",
    "version": 3
   },
   "file_extension": ".py",
   "mimetype": "text/x-python",
   "name": "python",
   "nbconvert_exporter": "python",
   "pygments_lexer": "ipython3",
   "version": "3.6.7"
  }
 },
 "nbformat": 4,
 "nbformat_minor": 2
}
