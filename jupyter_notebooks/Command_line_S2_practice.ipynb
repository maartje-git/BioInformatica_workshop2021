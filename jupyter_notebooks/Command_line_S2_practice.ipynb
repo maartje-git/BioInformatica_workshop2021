{
 "cells": [
  {
   "cell_type": "markdown",
   "metadata": {},
   "source": [
    "# Bioinformatics Workshop 2021\n",
    "### Command_line_S2_practice\n",
    "#### Maartje Brouwer\n",
    "#### 2021 Feb 08\n",
    "###### This notebook is running Python 3.6.7"
   ]
  },
  {
   "cell_type": "markdown",
   "metadata": {},
   "source": [
    "#### Command line practice II"
   ]
  },
  {
   "cell_type": "code",
   "execution_count": 36,
   "metadata": {},
   "outputs": [
    {
     "name": "stdout",
     "output_type": "stream",
     "text": [
      "/export/lv3/scratch/workshop_2021/Users/maartje\n"
     ]
    }
   ],
   "source": [
    "## 1. Navigate to your workshop directory\n",
    "%cd /export/lv3/scratch/workshop_2021/Users/maartje"
   ]
  },
  {
   "cell_type": "code",
   "execution_count": 3,
   "metadata": {},
   "outputs": [],
   "source": [
    "## 2. Rename the directory created the last week “Files” to “Files_S1”\n",
    "! mv Files Files_S1"
   ]
  },
  {
   "cell_type": "code",
   "execution_count": 16,
   "metadata": {},
   "outputs": [
    {
     "name": "stdout",
     "output_type": "stream",
     "text": [
      "253M\tBlackSea_2013\r\n",
      "420K\tfiles_S1.tar.gz\r\n",
      "0\tfiles_S2\r\n"
     ]
    }
   ],
   "source": [
    "## 3. How much space does your Files_S1 directory has in total? \n",
    "! du -hs *\n",
    "# -d0 or -s, shows only the sub-directories of the current directory. \n",
    "# -d# can go to different depths into the directories,\n",
    "# -h makes it human readable, so MB instead of bytes\n",
    "# * seperates the sub-directories"
   ]
  },
  {
   "cell_type": "code",
   "execution_count": 12,
   "metadata": {
    "scrolled": true
   },
   "outputs": [],
   "source": [
    "## 4. Create TAR folder for all the S1 files and compress them\n",
    "! tar -czf files_S1.tar.gz Files\n",
    "# -c creates, -z a zipped archive, -f containing files"
   ]
  },
  {
   "cell_type": "code",
   "execution_count": 13,
   "metadata": {},
   "outputs": [
    {
     "name": "stdout",
     "output_type": "stream",
     "text": [
      "Files/\r\n",
      "Files/sequences.fasta\r\n",
      "Files/taxonomy.tsv\r\n",
      "Files/taxonomy_subset.tsv\r\n",
      "Files/repeated_sequences.top5.txt\r\n",
      "Files/some_arthropods.fasta\r\n",
      "Files/D_accessions.tsv\r\n"
     ]
    }
   ],
   "source": [
    "## 5. List the content of your tar file\n",
    "! tar -tzf files_S1.tar.gz\n",
    "# -t shows the content of a tar without extracting\n",
    "\n",
    "## remove the directory\n",
    "! rm -r Files"
   ]
  },
  {
   "cell_type": "code",
   "execution_count": 15,
   "metadata": {},
   "outputs": [],
   "source": [
    "## 6. Create a new directory called “Files_S2”\n",
    "! mkdir files_S2"
   ]
  },
  {
   "cell_type": "code",
   "execution_count": 6,
   "metadata": {},
   "outputs": [
    {
     "name": "stdout",
     "output_type": "stream",
     "text": [
      "total 28\r\n",
      "drwxrwxr-x. 6 aabdala jeusers   138 Jan 25 10:06 ..\r\n",
      "drwxrwxr-x. 3 aabdala aabdala   123 Jan 21 13:25 .\r\n",
      "drwxrwxr-x. 2 aabdala aabdala  4096 Jan 21 12:10 fastq_files\r\n",
      "-rw-rw-r--. 1 aabdala aabdala  1393 Jan 20 18:30 NIOZ102.metadata.tsv\r\n",
      "-rw-rw-r--. 1 aabdala aabdala   326 Jan 19 22:08 missing_samples.tsv\r\n",
      "-rw-rw-r--. 1 aabdala aabdala 15308 Jan 19 22:07 NIOZ102_map.tsv\r\n"
     ]
    }
   ],
   "source": [
    "## 7. List the content of the directory: /export/lv3/scratch/workshop_2021/S2_command_line \n",
    "# Try to use a relative path, rather than using the full path.\n",
    "! ls -alt ../../S2_command_line"
   ]
  },
  {
   "cell_type": "code",
   "execution_count": 10,
   "metadata": {},
   "outputs": [],
   "source": [
    "## 8. Inspect the file NIOZ102_map.tsv with the command “less”\n",
    "#! less ../../S2_command_line/NIOZ102_map.tsv\n",
    "\n",
    "# the file contains consecutive sample names (first column). \n",
    "# We are only interested on the samples NIOZ102.112 to NIOZ102.124.\n",
    "# retain the lines with those samples using sed and send them to a file in your working directory, \n",
    "# the file should be called NIOZ102.BlackSea_samples.txt.\n",
    "! sed -n '113,125 p' ../../S2_command_line/NIOZ102_map.tsv > ./files_S2/NIOZ102.BlackSea_samples.txt\n",
    "\n",
    "# or look for pattern\n",
    "# ! sed -n '/NIOZ102.112/,/NIOZ102.124/ p' ../../S2_command_line/NIOZ102_map.tsv > ./files_S2/NIOZ102.BlackSea_samples.txt\n",
    "# or pipe content of file\n",
    "# ! cat ../../S2_command_line/NIOZ102_map.tsv | sed -n '/NIOZ102.112/,/NIOZ102.124/ p' > ./files_S2/NIOZ102.BlackSea_samples.txt"
   ]
  },
  {
   "cell_type": "code",
   "execution_count": 11,
   "metadata": {},
   "outputs": [
    {
     "name": "stdout",
     "output_type": "stream",
     "text": [
      "NIOZ102.112\tTCATCTTGATTG\tGTGYCAGCMGCCGCGGTAA\tGGACTACNVGGGTWTCTAAT\t515F_Golay223_806R_Golay_224.fasta\tBS 1\r",
      "\r\n",
      "NIOZ102.113\tTATATAGTATCC\tGTGYCAGCMGCCGCGGTAA\tGGACTACNVGGGTWTCTAAT\t515F_Golay225_806R_Golay_224.fasta\tBS 2\r",
      "\r\n",
      "NIOZ102.114\tACTGTTTACTGT\tGTGYCAGCMGCCGCGGTAA\tGGACTACNVGGGTWTCTAAT\t515F_Golay227_806R_Golay_224.fasta\tBS 3\r",
      "\r\n",
      "NIOZ102.115\tGTCACGGACATT\tGTGYCAGCMGCCGCGGTAA\tGGACTACNVGGGTWTCTAAT\t515F_Golay229_806R_Golay_224.fasta\tBS 4\r",
      "\r\n",
      "NIOZ102.116\tGAATATACCTGG\tGTGYCAGCMGCCGCGGTAA\tGGACTACNVGGGTWTCTAAT\t515F_Golay231_806R_Golay_224.fasta\tBS 5\r",
      "\r\n",
      "NIOZ102.117\tGAATCTGACAAC\tGTGYCAGCMGCCGCGGTAA\tGGACTACNVGGGTWTCTAAT\t515F_Golay233_806R_Golay_224.fasta\tBS 6\r",
      "\r\n",
      "NIOZ102.118\tATTGCCTTGATT\tGTGYCAGCMGCCGCGGTAA\tGGACTACNVGGGTWTCTAAT\t515F_Golay235_806R_Golay_224.fasta\tBS 7\r",
      "\r\n",
      "NIOZ102.119\tGAGCCCAAAGAG\tGTGYCAGCMGCCGCGGTAA\tGGACTACNVGGGTWTCTAAT\t515F_Golay237_806R_Golay_224.fasta\tBS 8\r",
      "\r\n",
      "NIOZ102.120\tCCATGTGGCTCC\tGTGYCAGCMGCCGCGGTAA\tGGACTACNVGGGTWTCTAAT\t515F_Golay239_806R_Golay_224.fasta\tBS 9\r",
      "\r\n",
      "NIOZ102.121\tCGTTCCTTGTTA\tGTGYCAGCMGCCGCGGTAA\tGGACTACNVGGGTWTCTAAT\t515F_Golay241_806R_Golay_224.fasta\tBS 10\r",
      "\r\n",
      "NIOZ102.122\tCGCTAGGATGTT\tGTGYCAGCMGCCGCGGTAA\tGGACTACNVGGGTWTCTAAT\t515F_Golay243_806R_Golay_224.fasta\tBS 11\r",
      "\r\n",
      "NIOZ102.123\tAGCGGTAGCGGT\tGTGYCAGCMGCCGCGGTAA\tGGACTACNVGGGTWTCTAAT\t515F_Golay245_806R_Golay_224.fasta\tBS 12\r",
      "\r\n",
      "NIOZ102.124\tGTCAGTATGGCT\tGTGYCAGCMGCCGCGGTAA\tGGACTACNVGGGTWTCTAAT\t515F_Golay247_806R_Golay_224.fasta\tBS 13\r",
      "\r\n"
     ]
    }
   ],
   "source": [
    "!cat ./files_S2/NIOZ102.BlackSea_samples.txt"
   ]
  },
  {
   "cell_type": "code",
   "execution_count": 17,
   "metadata": {},
   "outputs": [],
   "source": [
    "## 9. The mapping file is missing 2 samples, located at S2_command_line/missing_samples.tsv\n",
    "# Subset the missing samples and add them to a new file: NIOZ102.BlackSea_samples_noHeader.txt\n",
    "! sed -n '2,3 p' ../../S2_command_line/missing_samples.tsv | cat ./files_S2/NIOZ102.BlackSea_samples.txt - > ./files_S2/NIOZ102.BlackSea_samples_noHeader.txt\n",
    "# take line 2 and 3 from missing_samples.tsv. Then cat file1 file2 > newfile. Instead of file 2, - indicates the sed part\n",
    "\n",
    "# or\n",
    "# ! cat NIOZ102.BlackSea_samples.txt <(sed -n '2,$ p' ../../../S2_command_line/missing_samples.tsv) > NIOZ102.BlackSea_samples_noHeader.txt"
   ]
  },
  {
   "cell_type": "code",
   "execution_count": 23,
   "metadata": {},
   "outputs": [],
   "source": [
    "## 10. Use one of the previous files to append the header and create a new file NIOZ102.BlackSea_samples.tsv\n",
    "! head -1 ../../S2_command_line/NIOZ102_map.tsv | cat - ./files_S2/NIOZ102.BlackSea_samples_noHeader.txt > ./files_S2/NIOZ102.BlackSea_samples.tsv"
   ]
  },
  {
   "cell_type": "code",
   "execution_count": 29,
   "metadata": {},
   "outputs": [],
   "source": [
    "## 11. Now we have our mapping file (tsv), remove the other two “.txt” files\n",
    "! rm ./files_S2/*.txt"
   ]
  },
  {
   "cell_type": "code",
   "execution_count": 53,
   "metadata": {},
   "outputs": [],
   "source": [
    "## 12. The definition of the last 2 samples differs from the other samples\n",
    "# Replace BS by Black Sea\n",
    "! sed -i 's/BS/Black Sea/' ./files_S2/NIOZ102.BlackSea_samples.tsv\n",
    "# sed -i replaces it in the original file\n",
    "# sed 's/text_to_replace/text_to_replace/flag' Substitutes text with another text. \n",
    "# The flag indicates what occurrence. No flag = the first occurrence. g = all. \n",
    "# 3 = 3rd occurrence and 3g = 3rd and further"
   ]
  },
  {
   "cell_type": "markdown",
   "metadata": {},
   "source": [
    "#### Advanced section"
   ]
  },
  {
   "cell_type": "code",
   "execution_count": null,
   "metadata": {},
   "outputs": [],
   "source": []
  }
 ],
 "metadata": {
  "kernelspec": {
   "display_name": "Python 3",
   "language": "python",
   "name": "python3"
  },
  "language_info": {
   "codemirror_mode": {
    "name": "ipython",
    "version": 3
   },
   "file_extension": ".py",
   "mimetype": "text/x-python",
   "name": "python",
   "nbconvert_exporter": "python",
   "pygments_lexer": "ipython3",
   "version": "3.6.7"
  }
 },
 "nbformat": 4,
 "nbformat_minor": 2
}
